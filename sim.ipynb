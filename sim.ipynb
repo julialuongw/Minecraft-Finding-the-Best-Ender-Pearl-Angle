{
 "cells": [
  {
   "cell_type": "code",
   "execution_count": 17,
   "metadata": {},
   "outputs": [],
   "source": [
    "import math as m\n",
    "import numpy as np\n",
    "import scipy.optimize"
   ]
  },
  {
   "cell_type": "code",
   "execution_count": 7,
   "metadata": {},
   "outputs": [],
   "source": [
    "### PARAM: Initial player or pearl position\n",
    "s_x0 = 0.5\n",
    "s_y0 = 4\n",
    "s_z0 = 0.5\n",
    "\n",
    "s_y0 = s_y0 + 1.62 - 0.1"
   ]
  },
  {
   "cell_type": "code",
   "execution_count": 2,
   "metadata": {},
   "outputs": [],
   "source": [
    "### Initial velocity at desired axis given a pitch. Yaw is kept constant to 360 degrees. \n",
    "def v_0(axis:str, pitch:float) -> float:\n",
    "    return {\n",
    "        \"x\": 0,\n",
    "        \"y\": -1.5 * m.sin(pitch),\n",
    "        \"z\": 1.5 * m.cos(pitch)\n",
    "    }[axis]"
   ]
  },
  {
   "cell_type": "code",
   "execution_count": 6,
   "metadata": {},
   "outputs": [],
   "source": [
    "### Component-wise velocity function given axis, initial pitch, and time. We keep yaw constant at 360 degrees\n",
    "def v(axis:str, pitch:float, t:int) -> float:\n",
    "    return {\n",
    "        \"x\": v_0(axis, pitch)*0.99**m.floor(t),\n",
    "        \"y\": v_0(axis, pitch)*0.99**m.floor(t) - 0.03*(100-100*0.99**m.floor(t)),\n",
    "        \"z\": v_0(axis, pitch)*0.99**m.floor(t)\n",
    "    }[axis]"
   ]
  },
  {
   "cell_type": "code",
   "execution_count": 8,
   "metadata": {},
   "outputs": [],
   "source": [
    "### Component-wise position function. We keep yaw constant at 360 degrees (hence, zeroing every sin(yaw))\n",
    "def s(axis:str, pitch:float, t:int) -> float:\n",
    "    return {\n",
    "        \"x\": s_x0,\n",
    "        \"y\": s_y0 - 3*t - (1.5*m.sin(pitch) - 3) * (100-100**(1-t)*99**t),\n",
    "        \"z\": s_z0 + 1.5*cos(pitch) * (100 - 100**(1-t)*99**t)\n",
    "    }[axis]"
   ]
  },
  {
   "cell_type": "code",
   "execution_count": 16,
   "metadata": {},
   "outputs": [
    {
     "data": {
      "text/plain": [
       "      converged: True\n",
       "           flag: 'converged'\n",
       " function_calls: 13\n",
       "     iterations: 12\n",
       "           root: -2.0"
      ]
     },
     "execution_count": 16,
     "metadata": {},
     "output_type": "execute_result"
    }
   ],
   "source": [
    "### Test: Find the root of the y-position function\n",
    "result = root_scalar(lambda x: x**2 - 4, x0=-10, x1=50)\n",
    "result"
   ]
  },
  {
   "cell_type": "code",
   "execution_count": null,
   "metadata": {},
   "outputs": [],
   "source": []
  }
 ],
 "metadata": {
  "kernelspec": {
   "display_name": "Python 3",
   "language": "python",
   "name": "python3"
  },
  "language_info": {
   "codemirror_mode": {
    "name": "ipython",
    "version": 3
   },
   "file_extension": ".py",
   "mimetype": "text/x-python",
   "name": "python",
   "nbconvert_exporter": "python",
   "pygments_lexer": "ipython3",
   "version": "3.9.7"
  }
 },
 "nbformat": 4,
 "nbformat_minor": 2
}
